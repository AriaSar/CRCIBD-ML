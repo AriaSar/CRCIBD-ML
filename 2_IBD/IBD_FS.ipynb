{
 "cells": [
  {
   "cell_type": "code",
   "execution_count": null,
   "metadata": {},
   "outputs": [],
   "source": [
    "import os\n",
    "import sys\n",
    "\n",
    "path_1 = os.path.dirname(os.getcwd())\n",
    "path_2 = path_1 + '/' + 'CommonCodes/'\n",
    "sys.path.insert(0, path_2)\n",
    "\n",
    "import numpy as np\n",
    "import pandas as pd\n",
    "import HelperFunctions as helper\n",
    "\n",
    "import warnings\n",
    "warnings.filterwarnings('ignore')"
   ]
  },
  {
   "cell_type": "code",
   "execution_count": null,
   "metadata": {},
   "outputs": [],
   "source": [
    "N = 100 \n",
    "feature_selection_repetition = 1000\n",
    "\n",
    "for n_r in range(feature_selection_repetition):\n",
    "\n",
    "    train_datasets_names = ['GSE16879', 'GSE22619', 'GSE59071', 'GSE102133', 'GSE179285']\n",
    "    test_datasets_names = ['GSE9452', 'GSE36807' ,'GSE37283', 'GSE4183']\n",
    "\n",
    "    _test_datasets = []\n",
    "    for d in test_datasets_names:\n",
    "        _test_datasets.append(pd.read_pickle(path_1+'/Datasets/'+d))\n",
    "    \n",
    "    _train_datasets = []\n",
    "    for d in train_datasets_names:\n",
    "        _train_datasets.append(pd.read_pickle(path_1+'/Datasets/'+d))\n",
    "\n",
    "    for i in range(len(_test_datasets)):\n",
    "        _test_datasets[i] = _test_datasets[i].groupby(_test_datasets[i].columns, axis=1).agg(np.mean)\n",
    "\n",
    "    for i in range(len(_train_datasets)):\n",
    "        _train_datasets[i] = _train_datasets[i].groupby(_train_datasets[i].columns, axis=1).agg(np.mean)\n",
    "\n",
    "    common_cols = list(set.intersection(*(set(df.columns) for df in [*_train_datasets, *_test_datasets])))\n",
    "    for i in range(len(_train_datasets)):\n",
    "        _train_datasets[i] = _train_datasets[i][common_cols]\n",
    "        y = _train_datasets[i].label\n",
    "        _train_datasets[i].drop(['label'], axis=1, inplace=True)\n",
    "        _train_datasets[i]['label'] = y\n",
    "        _train_datasets[i].columns = np.arange(len(_train_datasets[i].columns))\n",
    "\n",
    "    df_train = pd.concat(_train_datasets)\n",
    "\n",
    "    df_train = helper.oversample(df_train).sample(frac=1).reset_index(drop=True)\n",
    "\n",
    "    x_train, y_train = helper.datasetXY_S(df_train)\n",
    "\n",
    "    features = helper.SVFS(x_train, y_train, th_irr=3, diff_threshold=1.7, th_red=4, k=N, alpha=50, beta=5)\n",
    "    features = [common_cols[f] for f in features]\n",
    "\n",
    "    helper.writeToFile('IBD_features.txt', features)\n",
    "    print(f'round: {n_r}/{feature_selection_repetition}')"
   ]
  }
 ],
 "metadata": {
  "kernelspec": {
   "display_name": "base",
   "language": "python",
   "name": "python3"
  },
  "language_info": {
   "codemirror_mode": {
    "name": "ipython",
    "version": 3
   },
   "file_extension": ".py",
   "mimetype": "text/x-python",
   "name": "python",
   "nbconvert_exporter": "python",
   "pygments_lexer": "ipython3",
   "version": "3.9.2"
  },
  "orig_nbformat": 4,
  "vscode": {
   "interpreter": {
    "hash": "99aada5f0ddb21c3452878f90434fad4cf2f4ffe5b678b27461e3cd3287cc503"
   }
  }
 },
 "nbformat": 4,
 "nbformat_minor": 2
}
