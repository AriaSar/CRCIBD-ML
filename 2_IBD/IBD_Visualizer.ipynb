{
 "cells": [
  {
   "cell_type": "code",
   "execution_count": null,
   "metadata": {},
   "outputs": [],
   "source": [
    "N = 100\n",
    "\n",
    "import os\n",
    "import operator\n",
    "import plotly.express as px\n",
    "from collections import Counter\n",
    "\n",
    "genes = []\n",
    "with open('IBD_features.txt', 'r') as f:\n",
    "    content = f.read() \n",
    "    genes = content.split(',')\n",
    "    genes = genes[:100000]\n",
    "\n",
    "repetition = Counter(genes)\n",
    "repetition = dict(sorted(repetition.items(), key=operator.itemgetter(1),reverse=True))\n",
    "\n",
    "fig = px.bar(x=list(repetition.keys())[:N], y=list(repetition.values())[:N], color=list(repetition.values())[:N], color_continuous_scale=px.colors.sequential.tempo)\n",
    "fig.update_xaxes(tickfont=dict(size=12),showgrid=False, title='Genes')\n",
    "fig.update_yaxes(tickfont=dict(size=12),showgrid=True, gridwidth=1, gridcolor='#cccccc', griddash='solid', title='# Repeats')\n",
    "fig.update_layout(\n",
    "    width=1700,\n",
    "    height=600,\n",
    "    legend=dict(font=dict(size=12), bgcolor='white'),\n",
    "    title='# repeats of each gene after 1000 feature selection cycles (IBD)',\n",
    ")\n",
    "fig.update_layout({\n",
    "    'plot_bgcolor': 'rgba(0.9,0.9,0.9,0)',\n",
    "    'paper_bgcolor': 'rgba(0.9,0.9,0.9,0)'\n",
    "})\n",
    "\n",
    "fig.show()\n",
    "\n",
    "\n",
    "if not os.path.exists('Pictures'):\n",
    "        os.mkdir('Pictures')\n",
    "fig.write_image('./Pictures/gene_repeats.png', width=1700, height=600, scale=4)"
   ]
  }
 ],
 "metadata": {
  "kernelspec": {
   "display_name": "base",
   "language": "python",
   "name": "python3"
  },
  "language_info": {
   "codemirror_mode": {
    "name": "ipython",
    "version": 3
   },
   "file_extension": ".py",
   "mimetype": "text/x-python",
   "name": "python",
   "nbconvert_exporter": "python",
   "pygments_lexer": "ipython3",
   "version": "3.9.2"
  },
  "orig_nbformat": 4,
  "vscode": {
   "interpreter": {
    "hash": "99aada5f0ddb21c3452878f90434fad4cf2f4ffe5b678b27461e3cd3287cc503"
   }
  }
 },
 "nbformat": 4,
 "nbformat_minor": 2
}
